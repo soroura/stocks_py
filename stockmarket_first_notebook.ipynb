{
 "cells": [
  {
   "cell_type": "code",
   "execution_count": 14,
   "id": "20bb0715",
   "metadata": {},
   "outputs": [
    {
     "name": "stdout",
     "output_type": "stream",
     "text": [
      "Requirement already satisfied: yfinance in /Users/soroura/anaconda3/lib/python3.10/site-packages (0.2.38)\n",
      "Requirement already satisfied: requests>=2.31 in /Users/soroura/anaconda3/lib/python3.10/site-packages (from yfinance) (2.31.0)\n",
      "Requirement already satisfied: pandas>=1.3.0 in /Users/soroura/anaconda3/lib/python3.10/site-packages (from yfinance) (1.5.3)\n",
      "Requirement already satisfied: multitasking>=0.0.7 in /Users/soroura/anaconda3/lib/python3.10/site-packages (from yfinance) (0.0.11)\n",
      "Requirement already satisfied: appdirs>=1.4.4 in /Users/soroura/anaconda3/lib/python3.10/site-packages (from yfinance) (1.4.4)\n",
      "Requirement already satisfied: numpy>=1.16.5 in /Users/soroura/anaconda3/lib/python3.10/site-packages (from yfinance) (1.23.5)\n",
      "Requirement already satisfied: frozendict>=2.3.4 in /Users/soroura/anaconda3/lib/python3.10/site-packages (from yfinance) (2.4.3)\n",
      "Requirement already satisfied: peewee>=3.16.2 in /Users/soroura/anaconda3/lib/python3.10/site-packages (from yfinance) (3.17.3)\n",
      "Requirement already satisfied: html5lib>=1.1 in /Users/soroura/anaconda3/lib/python3.10/site-packages (from yfinance) (1.1)\n",
      "Requirement already satisfied: pytz>=2022.5 in /Users/soroura/anaconda3/lib/python3.10/site-packages (from yfinance) (2022.7)\n",
      "Requirement already satisfied: beautifulsoup4>=4.11.1 in /Users/soroura/anaconda3/lib/python3.10/site-packages (from yfinance) (4.11.1)\n",
      "Requirement already satisfied: lxml>=4.9.1 in /Users/soroura/anaconda3/lib/python3.10/site-packages (from yfinance) (4.9.1)\n",
      "Requirement already satisfied: soupsieve>1.2 in /Users/soroura/anaconda3/lib/python3.10/site-packages (from beautifulsoup4>=4.11.1->yfinance) (2.3.2.post1)\n",
      "Requirement already satisfied: six>=1.9 in /Users/soroura/anaconda3/lib/python3.10/site-packages (from html5lib>=1.1->yfinance) (1.16.0)\n",
      "Requirement already satisfied: webencodings in /Users/soroura/anaconda3/lib/python3.10/site-packages (from html5lib>=1.1->yfinance) (0.5.1)\n",
      "Requirement already satisfied: python-dateutil>=2.8.1 in /Users/soroura/anaconda3/lib/python3.10/site-packages (from pandas>=1.3.0->yfinance) (2.8.2)\n",
      "Requirement already satisfied: idna<4,>=2.5 in /Users/soroura/anaconda3/lib/python3.10/site-packages (from requests>=2.31->yfinance) (3.4)\n",
      "Requirement already satisfied: certifi>=2017.4.17 in /Users/soroura/anaconda3/lib/python3.10/site-packages (from requests>=2.31->yfinance) (2024.2.2)\n",
      "Requirement already satisfied: charset-normalizer<4,>=2 in /Users/soroura/anaconda3/lib/python3.10/site-packages (from requests>=2.31->yfinance) (2.0.4)\n",
      "Requirement already satisfied: urllib3<3,>=1.21.1 in /Users/soroura/anaconda3/lib/python3.10/site-packages (from requests>=2.31->yfinance) (1.26.14)\n",
      "Note: you may need to restart the kernel to use updated packages.\n"
     ]
    }
   ],
   "source": [
    "pip install yfinance\n",
    "pip install pandas-datareader"
   ]
  },
  {
   "cell_type": "code",
   "execution_count": 39,
   "id": "42cfbf10",
   "metadata": {},
   "outputs": [],
   "source": [
    "import yfinance as yf\n",
    "import pandas as pd\n",
    "import numpy as np\n",
    "import logging\n",
    "from pandas_datareader import data as pdr"
   ]
  },
  {
   "cell_type": "code",
   "execution_count": 15,
   "id": "6af6b9cd",
   "metadata": {},
   "outputs": [],
   "source": [
    "import yfinance as yf\n",
    "import pandas as pd"
   ]
  },
  {
   "cell_type": "code",
   "execution_count": 21,
   "id": "eaf865da",
   "metadata": {},
   "outputs": [],
   "source": [
    "def fetch_data(tickers, start_date, end_date):\n",
    "    \"\"\"\n",
    "    Fetches historical stock data from Yahoo Finance and adjusts the DataFrame format for ease of use.\n",
    "\n",
    "    :param tickers: List of stock ticker symbols as a string separated by spaces if multiple, e.g., 'AAPL MSFT'.\n",
    "    :param start_date: Start date for the data in 'YYYY-MM-DD' format.\n",
    "    :param end_date: End date for the data in 'YYYY-MM-DD' format.\n",
    "    :return: DataFrame containing historical stock data, indexed by date with multi-level columns if multiple tickers.\n",
    "    \"\"\"\n",
    "    data = yf.download(tickers, start=start_date, end=end_date)\n",
    "    if len(tickers.split()) > 1:\n",
    "        # Ensuring the data is returned with a multi-level column index when multiple tickers are queried\n",
    "        data = data['Adj Close']  # You can change this if you need other data like 'Open', 'Close', etc.\n",
    "    else:\n",
    "        # Adjusting for a single ticker query - flattening the DataFrame\n",
    "        data.columns = data.columns.droplevel(0)\n",
    "    return data\n"
   ]
  },
  {
   "cell_type": "code",
   "execution_count": 22,
   "id": "4f86c073",
   "metadata": {},
   "outputs": [
    {
     "name": "stderr",
     "output_type": "stream",
     "text": [
      "[*********************100%%**********************]  3 of 3 completed"
     ]
    },
    {
     "name": "stdout",
     "output_type": "stream",
     "text": [
      "Ticker           AAPL      GOOGL       MSFT\n",
      "Date                                       \n",
      "2018-01-02  40.670986  53.660500  80.080917\n",
      "2018-01-03  40.663879  54.576000  80.453629\n",
      "2018-01-04  40.852776  54.787998  81.161720\n",
      "2018-01-05  41.317898  55.514500  82.167976\n",
      "2018-01-08  41.164429  55.710499  82.251816\n"
     ]
    },
    {
     "name": "stderr",
     "output_type": "stream",
     "text": [
      "\n"
     ]
    }
   ],
   "source": [
    "# Example usage:\n",
    "tickers = 'AAPL MSFT GOOGL'  # String of ticker symbols separated by spaces\n",
    "start_date = '2018-01-01'\n",
    "end_date = '2023-01-01'\n",
    "\n",
    "# Fetching data\n",
    "stock_data = fetch_data(tickers, start_date, end_date)\n",
    "\n",
    "# Display the first few rows of the fetched data\n",
    "print(stock_data.head())\n"
   ]
  },
  {
   "cell_type": "code",
   "execution_count": 31,
   "id": "4500bf69",
   "metadata": {},
   "outputs": [
    {
     "name": "stderr",
     "output_type": "stream",
     "text": [
      "\r",
      "[*********************100%%**********************]  1 of 1 completed"
     ]
    },
    {
     "name": "stdout",
     "output_type": "stream",
     "text": [
      "                  Open        High         Low       Close   Adj Close  \\\n",
      "Date                                                                     \n",
      "2023-01-03  130.279999  130.899994  124.169998  125.070000  124.216301   \n",
      "2023-01-04  126.889999  128.660004  125.080002  126.360001  125.497498   \n",
      "2023-01-05  127.129997  127.769997  124.760002  125.019997  124.166641   \n",
      "2023-01-06  126.010002  130.289993  124.889999  129.619995  128.735245   \n",
      "2023-01-09  130.470001  133.410004  129.889999  130.149994  129.261627   \n",
      "\n",
      "               Volume  \n",
      "Date                   \n",
      "2023-01-03  112117500  \n",
      "2023-01-04   89113600  \n",
      "2023-01-05   80962700  \n",
      "2023-01-06   87754700  \n",
      "2023-01-09   70790800  \n"
     ]
    },
    {
     "name": "stderr",
     "output_type": "stream",
     "text": [
      "\n"
     ]
    }
   ],
   "source": [
    "def fetch_data(ticker, start_date, end_date):\n",
    "    stock_data = yf.download(ticker, start=start_date, end=end_date)\n",
    "    return stock_data\n",
    "test_data = fetch_data('AAPL', '2023-01-01', '2023-05-01')\n",
    "print(test_data.head())"
   ]
  },
  {
   "cell_type": "code",
   "execution_count": 32,
   "id": "efbe38ea",
   "metadata": {},
   "outputs": [
    {
     "name": "stderr",
     "output_type": "stream",
     "text": [
      "[*********************100%%**********************]  1 of 1 completed\n",
      "[*********************100%%**********************]  1 of 1 completed\n",
      "[*********************100%%**********************]  1 of 1 completed"
     ]
    },
    {
     "name": "stdout",
     "output_type": "stream",
     "text": [
      "Stocks in uptrend: ['AAPL', 'MSFT', 'GOOGL']\n"
     ]
    },
    {
     "name": "stderr",
     "output_type": "stream",
     "text": [
      "\n"
     ]
    }
   ],
   "source": [
    "def fetch_data(ticker):\n",
    "    data = yf.download(ticker, start=\"2023-01-01\", end=\"2023-12-31\")\n",
    "    data['MA50'] = data['Adj Close'].rolling(window=50).mean()\n",
    "    data['MA200'] = data['Adj Close'].rolling(window=200).mean()\n",
    "    return data\n",
    "\n",
    "def filter_stocks(ticker):\n",
    "    data = fetch_data(ticker)\n",
    "    latest_data = data.iloc[-1]  # Get the latest data point\n",
    "    if latest_data['Adj Close'] > latest_data['MA50'] > latest_data['MA200']:\n",
    "        return True\n",
    "    else:\n",
    "        return False\n",
    "\n",
    "# Example usage:\n",
    "tickers = ['AAPL', 'MSFT', 'GOOGL']\n",
    "filtered_stocks = [ticker for ticker in tickers if filter_stocks(ticker)]\n",
    "print(\"Stocks in uptrend:\", filtered_stocks)\n"
   ]
  },
  {
   "cell_type": "code",
   "execution_count": 33,
   "id": "abae776c",
   "metadata": {},
   "outputs": [
    {
     "name": "stderr",
     "output_type": "stream",
     "text": [
      "[*********************100%%**********************]  1 of 1 completed\n",
      "2024-05-06 16:03:15,308 - INFO - AAPL is not in an uptrend.\n",
      "[*********************100%%**********************]  1 of 1 completed\n",
      "2024-05-06 16:03:15,450 - INFO - MSFT is not in an uptrend.\n",
      "[*********************100%%**********************]  1 of 1 completed\n",
      "2024-05-06 16:03:15,581 - INFO - GOOGL is in an uptrend.\n",
      "[*********************100%%**********************]  1 of 1 completed\n",
      "2024-05-06 16:03:15,820 - INFO - AMZN is in an uptrend.\n",
      "[*********************100%%**********************]  1 of 1 completed\n",
      "2024-05-06 16:03:16,049 - INFO - TSLA is not in an uptrend.\n",
      "2024-05-06 16:03:16,049 - INFO - Total stocks in uptrend: 2\n"
     ]
    },
    {
     "name": "stdout",
     "output_type": "stream",
     "text": [
      "Stocks in uptrend: ['GOOGL', 'AMZN']\n"
     ]
    }
   ],
   "source": [
    "import yfinance as yf\n",
    "import pandas as pd\n",
    "import numpy as np\n",
    "import logging\n",
    "\n",
    "# Setup logging\n",
    "logging.basicConfig(level=logging.INFO, format='%(asctime)s - %(levelname)s - %(message)s')\n",
    "\n",
    "def fetch_tickers():\n",
    "    \"\"\"\n",
    "    Fetches a complete list of tickers. This function assumes a placeholder implementation.\n",
    "    For actual use, replace it with a function that fetches live ticker data from a reliable source.\n",
    "    \"\"\"\n",
    "    return ['AAPL', 'MSFT', 'GOOGL', 'AMZN', 'TSLA']  # Placeholder list\n",
    "\n",
    "def fetch_data(ticker):\n",
    "    \"\"\"\n",
    "    Fetch historical data for the given ticker and compute moving averages.\n",
    "    \"\"\"\n",
    "    try:\n",
    "        data = yf.download(ticker, period=\"1y\")\n",
    "        data['MA50'] = data['Adj Close'].rolling(window=50).mean()\n",
    "        data['MA200'] = data['Adj Close'].rolling(window=200).mean()\n",
    "        return data\n",
    "    except Exception as e:\n",
    "        logging.error(f\"Failed to download data for {ticker}: {str(e)}\")\n",
    "        return None\n",
    "\n",
    "def is_in_uptrend(data):\n",
    "    \"\"\"\n",
    "    Determine if the stock is in uptrend based on the last available data.\n",
    "    \"\"\"\n",
    "    if data is not None and not data.empty:\n",
    "        last_close = data.iloc[-1]\n",
    "        return last_close['Adj Close'] > last_close['MA50'] > last_close['MA200'] and last_close['MA50'] > last_close['MA200']\n",
    "    return False\n",
    "\n",
    "def process_batch(tickers):\n",
    "    \"\"\"\n",
    "    Process a batch of tickers and return those in an uptrend.\n",
    "    \"\"\"\n",
    "    uptrend_stocks = []\n",
    "    for ticker in tickers:\n",
    "        data = fetch_data(ticker)\n",
    "        if is_in_uptrend(data):\n",
    "            uptrend_stocks.append(ticker)\n",
    "            logging.info(f\"{ticker} is in an uptrend.\")\n",
    "        else:\n",
    "            logging.info(f\"{ticker} is not in an uptrend.\")\n",
    "    return uptrend_stocks\n",
    "\n",
    "def main():\n",
    "    tickers = fetch_tickers()\n",
    "    batch_size = 5  # Number of tickers to process at once\n",
    "    uptrend_stocks = []\n",
    "    \n",
    "    for i in range(0, len(tickers), batch_size):\n",
    "        batch_tickers = tickers[i:i+batch_size]\n",
    "        uptrend_stocks.extend(process_batch(batch_tickers))\n",
    "    \n",
    "    logging.info(f\"Total stocks in uptrend: {len(uptrend_stocks)}\")\n",
    "    print(\"Stocks in uptrend:\", uptrend_stocks)\n",
    "\n",
    "if __name__ == \"__main__\":\n",
    "    main()\n"
   ]
  },
  {
   "cell_type": "code",
   "execution_count": 46,
   "id": "103d36bb",
   "metadata": {},
   "outputs": [],
   "source": [
    "\n",
    "# Setup logging\n",
    "logging.basicConfig(level=logging.INFO, format='%(asctime)s - %(levelname)s - %(message)s')\n",
    "\n",
    "def fetch_tickers():\n",
    "    \"\"\"\n",
    "    Fetches a complete list of NASDAQ tickers using pandas_datareader.\n",
    "    \"\"\"\n",
    "    try:\n",
    "        nasdaq_tickers = pdr.get_nasdaq_symbols()\n",
    "        return nasdaq_tickers.index.tolist()\n",
    "    except Exception as e:\n",
    "        logging.error(f\"Failed to fetch NASDAQ tickers: {str(e)}\")\n",
    "        return []\n"
   ]
  },
  {
   "cell_type": "code",
   "execution_count": 47,
   "id": "f70e4f64",
   "metadata": {},
   "outputs": [],
   "source": [
    "def fetch_data(ticker):\n",
    "    \"\"\"\n",
    "    Fetch historical data for the given ticker and compute moving averages.\n",
    "    \"\"\"\n",
    "    try:\n",
    "        data = yf.download(ticker, period=\"1y\")\n",
    "        data['MA50'] = data['Adj Close'].rolling(window=50).mean()\n",
    "        data['MA200'] = data['Adj Close'].rolling(window=200).mean()\n",
    "        return data\n",
    "    except Exception as e:\n",
    "        logging.error(f\"Failed to download data for {ticker}: {str(e)}\")\n",
    "        return None"
   ]
  },
  {
   "cell_type": "code",
   "execution_count": 48,
   "id": "74f9e0ab",
   "metadata": {},
   "outputs": [],
   "source": [
    "def is_in_uptrend(data):\n",
    "    \"\"\"\n",
    "    Determine if the stock is in uptrend based on the last available data.\n",
    "    \"\"\"\n",
    "    if data is not None and not data.empty:\n",
    "        last_close = data.iloc[-1]\n",
    "        return last_close['Adj Close'] > last_close['MA50'] > last_close['MA200'] and last_close['MA50'] > last_close['MA200']\n",
    "    return False"
   ]
  },
  {
   "cell_type": "code",
   "execution_count": null,
   "id": "91950459",
   "metadata": {},
   "outputs": [],
   "source": [
    "def process_batch(tickers):\n",
    "    \"\"\"\n",
    "    Process a batch of tickers and return a DataFrame of those in an uptrend with their last close, MA50, and MA200.\n",
    "    \"\"\"\n",
    "    uptrend_stocks = []\n",
    "    for ticker in tickers:\n",
    "        data = fetch_data(ticker)\n",
    "        if data is not None and is_in_uptrend(data):\n",
    "            last_data = data.iloc[-1]\n",
    "            uptrend_stocks.append({\n",
    "                \"Ticker\": ticker,\n",
    "                \"Last Close\": last_data['Adj Close'],\n",
    "                \"MA50\": last_data['MA50'],\n",
    "                \"MA200\": last_data['MA200']\n",
    "            })\n",
    "            logging.info(f\"{ticker} is in an uptrend.\")\n",
    "        else:\n",
    "            logging.info(f\"{ticker} is not in an uptrend.\")\n",
    "    return pd.DataFrame(uptrend_stocks)\n"
   ]
  },
  {
   "cell_type": "code",
   "execution_count": null,
   "id": "911311d0",
   "metadata": {},
   "outputs": [],
   "source": [
    "def main():\n",
    "    tickers = fetch_tickers()\n",
    "    batch_size = 100  # Adjust based on your system capacity and rate limits\n",
    "    results = []\n",
    "\n",
    "    for i in range(0, len(tickers), batch_size):\n",
    "        batch_tickers = tickers[i:i+batch_size]\n",
    "        results.append(process_batch(batch_tickers))\n",
    "    \n",
    "    uptrend_stocks_df = pd.concat(results, ignore_index=True)\n",
    "    logging.info(f\"Total stocks in uptrend: {uptrend_stocks_df.shape[0]}\")\n",
    "    print(uptrend_stocks_df)\n",
    "\n",
    "if __name__ == \"__main__\":\n",
    "    main()\n"
   ]
  }
 ],
 "metadata": {
  "kernelspec": {
   "display_name": "Python 3 (ipykernel)",
   "language": "python",
   "name": "python3"
  },
  "language_info": {
   "codemirror_mode": {
    "name": "ipython",
    "version": 3
   },
   "file_extension": ".py",
   "mimetype": "text/x-python",
   "name": "python",
   "nbconvert_exporter": "python",
   "pygments_lexer": "ipython3",
   "version": "3.10.9"
  }
 },
 "nbformat": 4,
 "nbformat_minor": 5
}
